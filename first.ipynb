{
 "cells": [
  {
   "cell_type": "code",
   "execution_count": 3,
   "id": "b5ae04b7-2b4e-4dc7-8480-86248fcc8b97",
   "metadata": {},
   "outputs": [
    {
     "name": "stdout",
     "output_type": "stream",
     "text": [
      "True\n",
      "False\n"
     ]
    }
   ],
   "source": [
    "#variables\n",
    "game = True\n",
    "print(game)\n",
    "\n",
    "game = 5>6\n",
    "print(game)\n",
    "\n"
   ]
  },
  {
   "cell_type": "code",
   "execution_count": 4,
   "id": "895cbd49-d60e-4201-85c9-e4b37f9efc78",
   "metadata": {},
   "outputs": [
    {
     "name": "stdout",
     "output_type": "stream",
     "text": [
      "Henry\n"
     ]
    }
   ],
   "source": [
    "player_name =\"Henry\"\n",
    "print(player_name)"
   ]
  },
  {
   "cell_type": "code",
   "execution_count": 10,
   "id": "93886525-2acb-42bb-9e3f-096eb12454bd",
   "metadata": {},
   "outputs": [
    {
     "name": "stdout",
     "output_type": "stream",
     "text": [
      "7\n",
      "<class 'int'>\n",
      "Seven is 7\n"
     ]
    }
   ],
   "source": [
    "num = 7\n",
    "print(str(num))\n",
    "print(type(num))\n",
    "print('Seven is ' + str(num))"
   ]
  },
  {
   "cell_type": "code",
   "execution_count": 24,
   "id": "e955209b-64b5-4863-8c55-c7193be534c3",
   "metadata": {},
   "outputs": [
    {
     "name": "stdout",
     "output_type": "stream",
     "text": [
      "bread\n",
      "['sword', 'glass', 'boots']\n",
      "3\n",
      "boots\n",
      "['oranges', 'sword', 'glass', 'boots']\n",
      "['oranges', 'sword', 'glass', 'boots', 'hat']\n",
      "['oranges', 'sword', 'glass', 'boots']\n",
      "['oranges', 'glass', 'boots']\n",
      "[]\n"
     ]
    }
   ],
   "source": [
    "#lists\n",
    "inventory = ['sword', 'bread', 'boots']\n",
    "print(inventory[1])\n",
    "inventory[1] ='glass'\n",
    "print(inventory)\n",
    "print(len(inventory))\n",
    "print(min(inventory))\n",
    "inventory.insert(0,'oranges')\n",
    "print(inventory)\n",
    "inventory.append('hat')\n",
    "print(inventory)\n",
    "inventory.pop()\n",
    "print(inventory)\n",
    "inventory.remove('sword')\n",
    "print(inventory)\n",
    "inventory.clear()\n",
    "print(inventory) #or\n",
    "inventory =[]\n"
   ]
  },
  {
   "cell_type": "code",
   "execution_count": 29,
   "id": "327a02a6-c09e-4ab4-a23f-aa2a54fef255",
   "metadata": {},
   "outputs": [
    {
     "name": "stdout",
     "output_type": "stream",
     "text": [
      "2\n",
      "[[1, 2, 3], [1, 2, 3, 4], [1, 2], [1, 2, 3], [1, 2, 3, 4, 5]]\n",
      "[[1, 2, 3], [1, 2, 3], [1, 2], [1, 2, 3], [1, 2, 3, 4, 5]]\n"
     ]
    }
   ],
   "source": [
    "#multidimensional lists ie lists with in lists\n",
    "universe=[[1,2,3],\n",
    "          [1,2,3,4],\n",
    "          [1,2],\n",
    "         [1,2,3]]         \n",
    "ninth_world =universe[2][1]\n",
    "print(ninth_world)\n",
    "universe.append([1,2,3,4,5])\n",
    "print(universe)\n",
    "universe[1].pop()\n",
    "print(universe)"
   ]
  },
  {
   "cell_type": "code",
   "execution_count": 33,
   "id": "f48c251a-a2e4-4bc5-ab06-568c0529845d",
   "metadata": {},
   "outputs": [
    {
     "name": "stdout",
     "output_type": "stream",
     "text": [
      "('Health kit', 4)\n",
      "Health kit\n",
      "1\n",
      "0\n"
     ]
    }
   ],
   "source": [
    "#tuples are immutable\n",
    "#can hold different types\n",
    "item =(\"Health kit\", 4)\n",
    "print(item)\n",
    "name =item[0]\n",
    "number=item[1]\n",
    "print(name)\n",
    "#counts the number of times the value repeats\n",
    "print(item.count(4)) \n",
    "print(item.index('Health kit'))\n",
    "\n"
   ]
  },
  {
   "cell_type": "code",
   "execution_count": 39,
   "id": "b6a4b811-44a7-4e66-a360-29b6b0341b6a",
   "metadata": {},
   "outputs": [
    {
     "name": "stdout",
     "output_type": "stream",
     "text": [
      "1\n",
      "5\n",
      "3\n",
      "{'knife': 8, 'Health Kit': 3, 'wood': 5}\n",
      "{'knife': 8, 'Health Kit': 3, 'wood': 5, 'Gold': 60}\n"
     ]
    }
   ],
   "source": [
    "#dictionaries\n",
    "inventory ={'knife': 1,\n",
    "            'Health Kit': 3,\n",
    "            'wood': 5}\n",
    "\n",
    "print(inventory['knife'])\n",
    "print(inventory['wood'])\n",
    "print(inventory['Health Kit'])\n",
    "inventory['knife']=8\n",
    "print(inventory)\n",
    "inventory['Gold'] =60 #this adds the key value and value if it does not exixt\n",
    "print(inventory)\n",
    "\n"
   ]
  },
  {
   "cell_type": "code",
   "execution_count": 19,
   "id": "ada6f3b5-f633-4f40-96c9-cadbd283f115",
   "metadata": {},
   "outputs": [
    {
     "name": "stdout",
     "output_type": "stream",
     "text": [
      "None\n",
      "5\n",
      "dict_keys(['knife', 'Health Kit', 'wood'])\n",
      "dict_values([1, 3, 5])\n",
      "1\n",
      "{'Health Kit': 3, 'wood': 5}\n",
      "3\n",
      "Health Kit\n",
      "wood\n",
      "{'Health Kit': 3, 'wood': 5, 'apple': 10}\n"
     ]
    }
   ],
   "source": [
    "#dictionaries\n",
    "inventory ={'knife': 1,\n",
    "            'Health Kit': 3,\n",
    "            'wood': 5}\n",
    "#print(inventory['Gold'])\n",
    "print(inventory.get('Gold'))\n",
    "print(inventory.get('wood'))\n",
    "print(inventory.keys())\n",
    "print(inventory.values())\n",
    "\n",
    "print(inventory.pop('knife'))\n",
    "print(inventory)\n",
    "#inventory.clear()\n",
    "inventory['apple']=10\n",
    "print(len(inventory))\n",
    "print(min(inventory)) #depends on keys not values\n",
    "print(max(inventory))\n",
    "print(inventory)"
   ]
  },
  {
   "cell_type": "code",
   "execution_count": 69,
   "id": "9052ede6-0166-4cfa-a5c9-9189839bdbda",
   "metadata": {},
   "outputs": [
    {
     "name": "stdout",
     "output_type": "stream",
     "text": [
      "1\n",
      "10\n",
      "[1, 2, 3, 4, 5, 6, 7, 8, 9, 10]\n",
      "[10, 9, 8, 7, 6, 5, 4, 3, 2, 1]\n",
      "True\n",
      "True\n",
      "[0, 2, 4, 6, 8, 10]\n"
     ]
    }
   ],
   "source": [
    "#range\n",
    "#range(start, end, step) though end is not printed\n",
    "first_ten =range(1,11)\n",
    "print(first_ten[0])\n",
    "print(first_ten[9])\n",
    "print(list(first_ten))\n",
    "\n",
    "reversed_ten = reversed(first_ten)\n",
    "reversed_ten = list(reversed_ten)\n",
    "print(reversed_ten)\n",
    "\n",
    "print(6 in first_ten)\n",
    "print(0 not in first_ten)\n",
    "\n",
    "print(list(range(0,11,2)))\n"
   ]
  },
  {
   "cell_type": "code",
   "execution_count": 18,
   "id": "db940d21-c81c-47d9-8f01-0e83616ab0fb",
   "metadata": {},
   "outputs": [
    {
     "name": "stdout",
     "output_type": "stream",
     "text": [
      "[52, 49, 46, 43, 40, 37, 34, 31, 28, 25, 22, 19, 16, 13, 10, 7, 4, 1]\n",
      "True\n",
      "False\n",
      "[2, 4, 6, 8, 10, 12, 14, 16, 18, 20, 22, 24, 26, 28, 30, 32, 34, 36, 38, 40, 42, 44, 46, 48, 50, 52, 54, 56, 58, 60, 62, 64, 66]\n",
      "13\n"
     ]
    }
   ],
   "source": [
    "#practicing range\n",
    "numbers=[i for i in range(1,55,3)]\n",
    "reverse_numbers=reversed(numbers)\n",
    "reverse=list(reverse_numbers)\n",
    "print(reverse)\n",
    "print(37 in reverse)\n",
    "print(56 in reverse)\n",
    "print(list(range(2,67,2)))\n",
    "print(reverse[-5])"
   ]
  },
  {
   "cell_type": "code",
   "execution_count": 1,
   "id": "c25b35f9-7bb6-41c1-b37c-2fccd51f3b3a",
   "metadata": {},
   "outputs": [
    {
     "name": "stdout",
     "output_type": "stream",
     "text": [
      "(1, 2, 4, 5, 7)\n",
      "5\n",
      "[1, 2, 4, 90, 7, 45]\n"
     ]
    }
   ],
   "source": [
    "data1=(1,2,4,5,7)\n",
    "print(data1)\n",
    "list_data =list(data1)\n",
    "list_data.append(45)\n",
    "print(list_data.pop(3))\n",
    "list_data.insert(3,90)\n",
    "print(list_data)"
   ]
  }
 ],
 "metadata": {
  "kernelspec": {
   "display_name": "Python 3 (ipykernel)",
   "language": "python",
   "name": "python3"
  },
  "language_info": {
   "codemirror_mode": {
    "name": "ipython",
    "version": 3
   },
   "file_extension": ".py",
   "mimetype": "text/x-python",
   "name": "python",
   "nbconvert_exporter": "python",
   "pygments_lexer": "ipython3",
   "version": "3.9.13"
  }
 },
 "nbformat": 4,
 "nbformat_minor": 5
}
