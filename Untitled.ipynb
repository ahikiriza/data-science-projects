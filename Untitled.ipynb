{
 "cells": [
  {
   "cell_type": "code",
   "execution_count": 19,
   "id": "4889d9ac",
   "metadata": {},
   "outputs": [
    {
     "name": "stdout",
     "output_type": "stream",
     "text": [
      "0     1\n",
      "1     2\n",
      "2     3\n",
      "3    45\n",
      "4     5\n",
      "dtype: int16\n",
      "0       2\n",
      "1       5\n",
      "2       7\n",
      "3    None\n",
      "4     NaN\n",
      "5       g\n",
      "dtype: object\n"
     ]
    }
   ],
   "source": [
    "import pandas as pd\n",
    "import numpy as np\n",
    "\n",
    "series =pd.Series([1.0,2,3,45,5], dtype=np.int16)\n",
    "print(series)\n",
    "series =pd.Series(['grass','tree'])\n",
    "series =pd.Series([True, False, True])\n",
    "series =pd.Series([2,5,7,None, np.nan, 'g'])\n",
    "print(series)\n"
   ]
  },
  {
   "cell_type": "code",
   "execution_count": 55,
   "id": "4da3bbd3",
   "metadata": {},
   "outputs": [
    {
     "name": "stdout",
     "output_type": "stream",
     "text": [
      "[ 1  3  4  5 67  8]\n",
      "<class 'numpy.ndarray'>\n",
      "DatetimeIndex(['2022-04-23 00:00:00', '2022-04-23 02:00:00',\n",
      "               '2022-04-23 04:00:00', '2022-04-23 06:00:00',\n",
      "               '2022-04-23 08:00:00'],\n",
      "              dtype='datetime64[ns]', freq='2H')\n"
     ]
    }
   ],
   "source": [
    "series =pd.Series({'name':6, 'course':8, 'sex': 9}, dtype= np.int32)\n",
    "series =pd.Series(np.array([1,5,8,5]))\n",
    "series =pd.Series(np.array((1,3,4,5,67,8)))\n",
    "numpy_series =series.to_numpy()\n",
    "numpy_series =np.asarray(series)\n",
    "print(numpy_series)\n",
    "print(type(numpy_series))\n",
    "                \n",
    "dates =pd.date_range('20200313', periods=15, freq ='2H')\n",
    "date =pd.date_range('20220423',periods =5,  freq ='2H')\n",
    "2\n",
    "series =pd.Series([1,2,3,4,5], index =date)\n",
    "print(date)"
   ]
  },
  {
   "cell_type": "code",
   "execution_count": 56,
   "id": "f4af559b",
   "metadata": {},
   "outputs": [
    {
     "name": "stdout",
     "output_type": "stream",
     "text": [
      "a    1\n",
      "b    2\n",
      "c    3\n",
      "d    4\n",
      "dtype: int64\n"
     ]
    }
   ],
   "source": [
    "series =pd.Series({'a':1, 'b':2,'c':3,'d':4})\n",
    "print(series)"
   ]
  },
  {
   "cell_type": "code",
   "execution_count": 72,
   "id": "71412303",
   "metadata": {},
   "outputs": [
    {
     "name": "stdout",
     "output_type": "stream",
     "text": [
      "      one  two\n",
      "row1  NaN  NaN\n",
      "row2  NaN  NaN\n",
      "row3  NaN  NaN\n",
      "row4  NaN  NaN\n"
     ]
    }
   ],
   "source": [
    "###################################Dataframes\n",
    "df =pd.DataFrame([1,2,3,4])\n",
    "df =pd.DataFrame(np.array([3,5,6,7,8]))\n",
    "df=pd.DataFrame({'one':[1,2,3], 'two': [2,3,4], 'three': [3,4,5]}, index=['1st', '2nd', '3rd'])\n",
    "# df=pd.DataFrame({'one':[1], 'two': [2], 'three': [3]}, index=['1st', '2nd', '3rd'])\n",
    "df =pd.DataFrame({'one': {'row1': 2, 'row2':5, 'row3':7}, 'two': {'row1':4, 'row2': 6, 'row3':7}})\n",
    "df =pd.DataFrame({'one':pd.Series([2,3,4,5]), 'two':pd.Series([9,8,7,5])}, index =['row1', 'row2','row3', 'row4'])\n",
    "print(df)"
   ]
  }
 ],
 "metadata": {
  "kernelspec": {
   "display_name": "Python 3 (ipykernel)",
   "language": "python",
   "name": "python3"
  },
  "language_info": {
   "codemirror_mode": {
    "name": "ipython",
    "version": 3
   },
   "file_extension": ".py",
   "mimetype": "text/x-python",
   "name": "python",
   "nbconvert_exporter": "python",
   "pygments_lexer": "ipython3",
   "version": "3.9.13"
  }
 },
 "nbformat": 4,
 "nbformat_minor": 5
}
