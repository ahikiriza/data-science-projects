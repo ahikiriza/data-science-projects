{
 "cells": [
  {
   "cell_type": "code",
   "execution_count": 10,
   "id": "6386ed1c",
   "metadata": {},
   "outputs": [],
   "source": [
    "class Gamecharacter:\n",
    "#     x_pos\n",
    "#     health\n",
    "#     name\n",
    "    def __init__(self,name, x_pos, health):\n",
    "        self.name =name\n",
    "        self.x_pos =x_pos\n",
    "        self.health =health\n",
    "        \n",
    "    def move(self, by_amount):\n",
    "        self.x_pos +=by_amount\n",
    "        \n",
    "    def take_damage(self, amount):\n",
    "        self.health -=amount\n",
    "        if self.health < 0:\n",
    "            self.health =0\n",
    "    def check_is_dead(self):\n",
    "        return self.health <= 0"
   ]
  },
  {
   "cell_type": "code",
   "execution_count": 9,
   "id": "7d5bb264",
   "metadata": {},
   "outputs": [
    {
     "name": "stdout",
     "output_type": "stream",
     "text": [
      "Henry\n",
      "34\n",
      "<class '__main__.gamecharacter'>\n"
     ]
    }
   ],
   "source": [
    "# practice cell\n",
    "class gamecharacter:\n",
    "    def __init__(self, name, age, course):\n",
    "        self.name =name\n",
    "        self.age =age\n",
    "        self.course=course\n",
    "game_character=gamecharacter('Henry', 34, 'BITC')\n",
    "print(game_character.name)\n",
    "print(game_character.age)\n",
    "print(type(game_character))"
   ]
  },
  {
   "cell_type": "code",
   "execution_count": 12,
   "id": "5804f23e",
   "metadata": {},
   "outputs": [
    {
     "name": "stdout",
     "output_type": "stream",
     "text": [
      "<class '__main__.Gamecharacter'>\n",
      "5\n",
      "agdgddhhd\n",
      "2\n"
     ]
    }
   ],
   "source": [
    "game_character = Gamecharacter('Henry', 5, 199)\n",
    "print(type(game_character))\n",
    "print(game_character.x_pos)\n",
    "\n",
    "game_character.name =\"agdgddhhd\"\n",
    "print(game_character.name)\n",
    "game_character.move(-3)  #subtracts 3 fom 5\n",
    "print(game_character.x_pos)"
   ]
  },
  {
   "cell_type": "code",
   "execution_count": 137,
   "id": "8a83830e",
   "metadata": {},
   "outputs": [],
   "source": [
    "#PANDAS\n",
    "#data structures ie series ie like 1d arrays\n",
    "#dataFrames ie act like 2D arrays ie contain multiple data types\n",
    "#Applications of pandas\n",
    "#web services, data science, machine learning, reading csvs \n",
    "\n",
    "#creating series from python lists, dictionaries, and numpy\n",
    "#python lists\n",
    "import pandas as pd\n",
    "import numpy as np\n",
    "\n",
    "\n",
    "\n",
    "    "
   ]
  },
  {
   "cell_type": "code",
   "execution_count": 34,
   "id": "a3e41458",
   "metadata": {},
   "outputs": [
    {
     "name": "stdout",
     "output_type": "stream",
     "text": [
      "0       1\n",
      "1     4.9\n",
      "2    None\n",
      "3     NaN\n",
      "4     red\n",
      "dtype: object\n",
      "0    3.0\n",
      "1    6.0\n",
      "2    9.0\n",
      "3    8.0\n",
      "dtype: float32\n"
     ]
    }
   ],
   "source": [
    "series =pd.Series([1,2,3,4])\n",
    "series =pd.Series(['1','4'])\n",
    "series =pd.Series([True, False, True])\n",
    "series =pd.Series([2,'toad',6.9])\n",
    "series =pd.Series([1,3.9, None, np.nan])\n",
    "series =pd.Series([1,4.9, None, np.nan, 'red'])\n",
    "print(series)\n",
    "\n",
    "series =pd.Series([3,6,9,8], dtype =np.float32)\n",
    "print(series)"
   ]
  },
  {
   "cell_type": "code",
   "execution_count": 40,
   "id": "060ea692",
   "metadata": {},
   "outputs": [
    {
     "name": "stdout",
     "output_type": "stream",
     "text": [
      "a    10\n",
      "b    10\n",
      "dtype: int64\n"
     ]
    }
   ],
   "source": [
    "#creating series from dictionaries\n",
    "series =pd.Series({'a':1, 'b':2, 'c':3})\n",
    "series =pd.Series({'a':True, 'b':False, 'c':True})\n",
    "series =pd.Series({'a':1, 'b':2, 'c':np.nan})\n",
    "\n",
    "series = pd.Series([1,2,3,4], index =['a', 'b','c','d'])\n",
    "series =pd.Series(10, index =['a','b'])\n",
    "print(series)"
   ]
  },
  {
   "cell_type": "code",
   "execution_count": 47,
   "id": "8462e5b9",
   "metadata": {},
   "outputs": [
    {
     "name": "stdout",
     "output_type": "stream",
     "text": [
      "0    1\n",
      "1    2\n",
      "2    3\n",
      "dtype: int32\n",
      "<class 'pandas.core.series.Series'>\n",
      "<class 'numpy.ndarray'>\n",
      "[1 2 3]\n"
     ]
    }
   ],
   "source": [
    "#creating series from numpy\n",
    "series =pd.Series(np.array([1,2,3]))\n",
    "print(series)\n",
    "numpy_series =series.to_numpy()  #using pandas function\n",
    "numpy_series = np.asarray(series) #using numpy function\n",
    "print(type(series))\n",
    "print(type(numpy_series))\n",
    "print(numpy_series)"
   ]
  },
  {
   "cell_type": "code",
   "execution_count": 77,
   "id": "8a5ab098",
   "metadata": {},
   "outputs": [
    {
     "name": "stdout",
     "output_type": "stream",
     "text": [
      "['2020-03-08T00:00:00.000000000' '2020-03-09T00:00:00.000000000'\n",
      " '2020-03-10T00:00:00.000000000' '2020-03-11T00:00:00.000000000'\n",
      " '2020-03-12T00:00:00.000000000']\n",
      "0    0\n",
      "1    0\n",
      "2    0\n",
      "3    0\n",
      "4    0\n",
      "dtype: int64\n"
     ]
    }
   ],
   "source": [
    "#Date ranges\n",
    "# creating date ranges\n",
    "dates =pd.date_range('20200301',periods=10)\n",
    "dates =pd.date_range('20200301',periods=10, freq ='3M')\n",
    "dates =pd.date_range('20200301',periods=10, freq='4H')\n",
    "dates =pd.date_range('20200301','20200302',periods=10)\n",
    "\n",
    "\n",
    "dates =pd.date_range('20200308', periods=5)\n",
    "# print(dates)\n",
    "series =pd.Series([1,2,3,4,5], index =dates)\n",
    "\n",
    "date_series =pd.Series(dates)\n",
    "numpy_series =date_series.to_numpy()\n",
    "numpy_series=np.asarray(date_series)\n",
    "print(numpy_series)\n",
    "\n",
    "\n",
    "date_series =pd.Series(dates)\n",
    "days =date_series.dt.day\n",
    "print(days)"
   ]
  },
  {
   "cell_type": "code",
   "execution_count": 93,
   "id": "0faa5f7d",
   "metadata": {},
   "outputs": [
    {
     "name": "stdout",
     "output_type": "stream",
     "text": [
      "a    1\n",
      "b    2\n",
      "c    3\n",
      "d    4\n",
      "e    5\n",
      "dtype: int64\n",
      "8\n"
     ]
    }
   ],
   "source": [
    "series =pd.Series({'a':1,'b':2,'c':3,'d':4, 'e':5})\n",
    "print(series)\n",
    "\n",
    "first=series[2]\n",
    "# last=series[-1:]\n",
    "\n",
    "# tenth =series[9]\n",
    "# tenth =series['j']\n",
    "tenth =series.get(9)\n",
    "tenth=series.get('J', default =0)\n",
    "print(tenth)\n",
    "\n"
   ]
  },
  {
   "cell_type": "code",
   "execution_count": 114,
   "id": "45fd943d",
   "metadata": {},
   "outputs": [
    {
     "name": "stdout",
     "output_type": "stream",
     "text": [
      "d    4\n",
      "e    5\n",
      "dtype: int64\n",
      "[1 2 3 4 5]\n"
     ]
    }
   ],
   "source": [
    "series =pd.Series({'a':1,'b':2,'c':3,'d':4, 'e':5})\n",
    "three = series[:3]\n",
    "three =series[[0,1,2,3]]\n",
    "shuffled =series[[4,2,1,3]]\n",
    "shuffled =series[['d','e','a']]\n",
    "gt3 = series[series>3]\n",
    "print(gt3)\n",
    "\n",
    "indexes =series.index\n",
    "values = series.values\n",
    "pandas_array =series.array\n",
    "pandas_array =np.array(series)\n",
    "print(pandas_array)\n"
   ]
  },
  {
   "cell_type": "code",
   "execution_count": 131,
   "id": "e9725d6f",
   "metadata": {},
   "outputs": [
    {
     "name": "stdout",
     "output_type": "stream",
     "text": [
      "   a  b  c  d\n",
      "0  1  2  3  4\n",
      "1  3  5  6  8\n"
     ]
    }
   ],
   "source": [
    "#datafarmes in pandas\n",
    "#from python lists\n",
    "#we use dataframes if we have multiple columns and rows \n",
    "df =pd.DataFrame([1,2,3], dtype=np.float16)\n",
    "df=pd.DataFrame(['1','2','3'])\n",
    "df=pd.DataFrame([True, False,True])\n",
    "\n",
    "# print(dtype(df))\n",
    "\n",
    "df =pd.DataFrame([[1,2,3,4], [1,4,5],[4,7,8,9]])\n",
    "\n",
    "df =pd.DataFrame(5, index =[0,1], columns=[0,1,2,3])\n",
    "df=pd.DataFrame([[1,2,3,4],[3,5,6,8]], columns=['a','b', 'c', 'd'])\n",
    "print(df)"
   ]
  },
  {
   "cell_type": "code",
   "execution_count": 134,
   "id": "21ccd1b8",
   "metadata": {},
   "outputs": [
    {
     "name": "stdout",
     "output_type": "stream",
     "text": [
      "      col1  col2\n",
      "row1     1     5\n",
      "row2     2     7\n",
      "row3     3     8\n"
     ]
    }
   ],
   "source": [
    "#create dataframes using dictionaries\n",
    "df =pd.DataFrame({'col3': [1,2,3],'col4': [6,7,8]}, index =['row1','row2', 'row3'])\n",
    "\n",
    "df=pd.DataFrame({'col1':{'row1':1, 'row2':2, 'row3': 3}, 'col2':{'row1':5, 'row2': 7, 'row3': 8}})\n",
    "print(df)\n"
   ]
  },
  {
   "cell_type": "code",
   "execution_count": 1,
   "id": "c4473dea",
   "metadata": {},
   "outputs": [
    {
     "ename": "NameError",
     "evalue": "name 'pd' is not defined",
     "output_type": "error",
     "traceback": [
      "\u001b[1;31m---------------------------------------------------------------------------\u001b[0m",
      "\u001b[1;31mNameError\u001b[0m                                 Traceback (most recent call last)",
      "\u001b[1;32m~\\AppData\\Local\\Temp\\ipykernel_7628\\3463044464.py\u001b[0m in \u001b[0;36m<module>\u001b[1;34m\u001b[0m\n\u001b[0;32m      1\u001b[0m \u001b[1;31m# From Pandas series\u001b[0m\u001b[1;33m\u001b[0m\u001b[1;33m\u001b[0m\u001b[0m\n\u001b[1;32m----> 2\u001b[1;33m \u001b[0mdf\u001b[0m \u001b[1;33m=\u001b[0m\u001b[0mpd\u001b[0m\u001b[1;33m.\u001b[0m\u001b[0mDataFrame\u001b[0m\u001b[1;33m(\u001b[0m\u001b[1;33m{\u001b[0m\u001b[1;34m'col1'\u001b[0m\u001b[1;33m:\u001b[0m \u001b[0mpd\u001b[0m\u001b[1;33m.\u001b[0m\u001b[0mSeries\u001b[0m\u001b[1;33m(\u001b[0m\u001b[1;33m[\u001b[0m\u001b[1;36m1\u001b[0m\u001b[1;33m,\u001b[0m\u001b[1;36m2\u001b[0m\u001b[1;33m,\u001b[0m\u001b[1;36m3\u001b[0m\u001b[1;33m]\u001b[0m\u001b[1;33m)\u001b[0m\u001b[1;33m,\u001b[0m \u001b[1;34m'col2'\u001b[0m\u001b[1;33m:\u001b[0m \u001b[0mpd\u001b[0m\u001b[1;33m.\u001b[0m\u001b[0mSeries\u001b[0m\u001b[1;33m(\u001b[0m\u001b[1;33m[\u001b[0m\u001b[1;36m4\u001b[0m\u001b[1;33m,\u001b[0m\u001b[1;36m5\u001b[0m\u001b[1;33m,\u001b[0m\u001b[1;36m6\u001b[0m\u001b[1;33m]\u001b[0m\u001b[1;33m)\u001b[0m\u001b[1;33m}\u001b[0m\u001b[1;33m)\u001b[0m\u001b[1;33m\u001b[0m\u001b[1;33m\u001b[0m\u001b[0m\n\u001b[0m\u001b[0;32m      3\u001b[0m \u001b[0mprint\u001b[0m\u001b[1;33m(\u001b[0m\u001b[0mdf\u001b[0m\u001b[1;33m)\u001b[0m\u001b[1;33m\u001b[0m\u001b[1;33m\u001b[0m\u001b[0m\n",
      "\u001b[1;31mNameError\u001b[0m: name 'pd' is not defined"
     ]
    }
   ],
   "source": [
    "# From Pandas series\n",
    "df =pd.DataFrame({'col1': pd.Series([1,2,3]), 'col2': pd.Series([4,5,6])})\n",
    "print(df)"
   ]
  },
  {
   "cell_type": "code",
   "execution_count": 3,
   "id": "3f6799a1",
   "metadata": {},
   "outputs": [
    {
     "data": {
      "image/png": "[encoded data removed]",
      "text/plain": [
       "<Figure size 640x480 with 1 Axes>"
      ]
     },
     "metadata": {},
     "output_type": "display_data"
    }
   ],
   "source": []
  },
  {
   "cell_type": "code",
   "execution_count": null,
   "id": "10067a35",
   "metadata": {},
   "outputs": [],
   "source": []
  }
 ],
 "metadata": {
  "kernelspec": {
   "display_name": "Python 3 (ipykernel)",
   "language": "python",
   "name": "python3"
  },
  "language_info": {
   "codemirror_mode": {
    "name": "ipython",
    "version": 3
   },
   "file_extension": ".py",
   "mimetype": "text/x-python",
   "name": "python",
   "nbconvert_exporter": "python",
   "pygments_lexer": "ipython3",
   "version": "3.9.13"
  }
 },
 "nbformat": 4,
 "nbformat_minor": 5
}
