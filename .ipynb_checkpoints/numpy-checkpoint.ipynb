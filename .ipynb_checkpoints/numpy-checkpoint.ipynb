{
 "cells": [
  {
   "cell_type": "code",
   "execution_count": 5,
   "id": "10c64743-0428-4960-b963-9d08803d4460",
   "metadata": {},
   "outputs": [],
   "source": [
    "import pandas as pd\n",
    "import numpy as np\n"
   ]
  },
  {
   "cell_type": "code",
   "execution_count": 7,
   "id": "af35b5c4-a826-4a0e-8834-54ca4fd25601",
   "metadata": {},
   "outputs": [
    {
     "name": "stdout",
     "output_type": "stream",
     "text": [
      "[1 2 3]\n",
      "[[1.5 2.  3. ]\n",
      " [4.  5.  6. ]]\n",
      "[[[1.5 2.  3. ]\n",
      "  [4.  5.  6. ]]\n",
      "\n",
      " [[3.  2.  1. ]\n",
      "  [4.  5.  6. ]]]\n"
     ]
    }
   ],
   "source": [
    "#NUMPY \n",
    "#numpy is a core library for scientic computing in python\n",
    "#creating arrays\n",
    "a = np.array([1,2,3])\n",
    "print(a)\n",
    "b= np.array([(1.5,2,3), (4,5,6)], dtype =float)\n",
    "print(b)\n",
    "c = np.array([[(1.5,2,3), (4,5,6)], [(3,2,1), (4,5,6)]], \n",
    " dtype = float)\n",
    "print(c)"
   ]
  },
  {
   "cell_type": "code",
   "execution_count": 23,
   "id": "42b4a465-e523-45d7-8e03-90eb64b52f7c",
   "metadata": {},
   "outputs": [
    {
     "name": "stdout",
     "output_type": "stream",
     "text": [
      "[10 15 20]\n"
     ]
    }
   ],
   "source": [
    "#initial placeholders\n",
    "np.zeros((3,4)) #Create an array of zeros\n",
    "np.ones((2,3,4),dtype=np.int16) #create an array of ones\n",
    "\n",
    "d = np.arange(10,25,5) #e an array of evenly spaced values (step value)\n",
    "print(d)"
   ]
  },
  {
   "cell_type": "code",
   "execution_count": 9,
   "id": "e59cf2eb-ffc2-42aa-9a5e-30fbebc12aba",
   "metadata": {},
   "outputs": [
    {
     "name": "stdout",
     "output_type": "stream",
     "text": [
      "[1.  4.5 8. ]\n",
      "[[7 7]\n",
      " [7 7]]\n",
      "[[1. 0.]\n",
      " [0. 1.]]\n",
      "[[1.5 2. ]\n",
      " [3.  4. ]\n",
      " [5.  6. ]]\n"
     ]
    }
   ],
   "source": [
    "g=np.linspace(1,8, 3) #Create an array of evenly  spaced values (number of samples)\n",
    "print(g)\n",
    "e =np.full((2,2),7) #create a constant array\n",
    "print(e)\n",
    "f = np.eye(2) # create a 2x2 identity matrix\n",
    "print(f)\n",
    "np.random.random((2,2)) #creates an array with random numbers\n",
    "d=np.empty((3,2)) #creates an empty array\n",
    "print(d)\n",
    "\n"
   ]
  },
  {
   "cell_type": "code",
   "execution_count": 9,
   "id": "ccf17515-2749-4f57-98c6-a1cb47a41bf8",
   "metadata": {},
   "outputs": [
    {
     "name": "stdout",
     "output_type": "stream",
     "text": [
      "0      4\n",
      "1    5.9\n",
      "2      7\n",
      "dtype: object\n"
     ]
    }
   ],
   "source": [
    "series = pd.Series([4,5,7])\n",
    "series = pd.Series([True, False, True])\n",
    "series = pd.Series(['1','2','3'])\n",
    "series = pd.Series([4,5.9,'7'])\n",
    "print(series)"
   ]
  },
  {
   "cell_type": "code",
   "execution_count": 71,
   "id": "fa5716b3-a452-4a1b-95ed-f680a00839d0",
   "metadata": {},
   "outputs": [
    {
     "data": {
      "text/plain": [
       "array([1, 2, 3])"
      ]
     },
     "execution_count": 71,
     "metadata": {},
     "output_type": "execute_result"
    }
   ],
   "source": [
    "#svaing and loading on the disk\n",
    "np.save('my_array', a)\n",
    "np.savez('array.npz',a,b)\n",
    "np.load('my_array.npy')"
   ]
  },
  {
   "cell_type": "code",
   "execution_count": 80,
   "id": "099bcd0e-af00-493a-824c-b33e8d5582ea",
   "metadata": {},
   "outputs": [],
   "source": [
    "#saving and loading text files\n",
    "#np.loadtxt(\"myfile.txt\")\n",
    "#np.genfromtxt(\"my_file.csv\", delimiter=',')\n",
    "#np.savetxt(\"myarray.txt\", a, delimiter=\" \")\n"
   ]
  },
  {
   "cell_type": "code",
   "execution_count": 108,
   "id": "99326d30-a4e3-4f22-9568-7056f0661e8c",
   "metadata": {},
   "outputs": [
    {
     "name": "stdout",
     "output_type": "stream",
     "text": [
      "(5,)\n",
      "5\n",
      "1\n",
      "5\n",
      "int32\n",
      "int32\n",
      "[4.+0.j 7.+0.j 2.+0.j 9.+0.j 7.+0.j]\n"
     ]
    }
   ],
   "source": [
    "# np.int64\n",
    "# np.complex\n",
    "# np.float32\n",
    "# np.string_\n",
    "# np.bool\n",
    "# np.object\n",
    "# np.int32\n",
    "a =np.array((4,7,2,9,7))\n",
    "print(a.shape) #array dimensions\n",
    "print(len(a)) #length of array\n",
    "print(a.ndim) #Number of dimensions\n",
    "print(a.size) #number of array elements\n",
    "print(a.dtype) #data type of array elements\n",
    "print(a.dtype.name) #name oof data type\n",
    "print(a.astype(complex)) #convert an array to a different type\n",
    "\n"
   ]
  },
  {
   "cell_type": "code",
   "execution_count": 111,
   "id": "6a220605-8690-476f-bf37-79ade3309331",
   "metadata": {},
   "outputs": [
    {
     "name": "stdout",
     "output_type": "stream",
     "text": [
      "Tuple of array dimensions.\n",
      "\n",
      "The shape property is usually used to get the current shape of an array,\n",
      "but may also be used to reshape the array in-place by assigning a tuple of\n",
      "array dimensions to it.  As with `numpy.reshape`, one of the new shape\n",
      "dimensions can be -1, in which case its value is inferred from the size of\n",
      "the array and the remaining dimensions. Reshaping an array in-place will\n",
      "fail if a copy is required.\n",
      "\n",
      "Examples\n",
      "--------\n",
      ">>> x = np.array([1, 2, 3, 4])\n",
      ">>> x.shape\n",
      "(4,)\n",
      ">>> y = np.zeros((2, 3, 4))\n",
      ">>> y.shape\n",
      "(2, 3, 4)\n",
      ">>> y.shape = (3, 8)\n",
      ">>> y\n",
      "array([[ 0.,  0.,  0.,  0.,  0.,  0.,  0.,  0.],\n",
      "       [ 0.,  0.,  0.,  0.,  0.,  0.,  0.,  0.],\n",
      "       [ 0.,  0.,  0.,  0.,  0.,  0.,  0.,  0.]])\n",
      ">>> y.shape = (3, 6)\n",
      "Traceback (most recent call last):\n",
      "  File \"<stdin>\", line 1, in <module>\n",
      "ValueError: total size of new array must be unchanged\n",
      ">>> np.zeros((4,2))[::2].shape = (-1,)\n",
      "Traceback (most recent call last):\n",
      "  File \"<stdin>\", line 1, in <module>\n",
      "AttributeError: Incompatible shape for in-place modification. Use\n",
      "`.reshape()` to make a copy with the desired shape.\n",
      "\n",
      "See Also\n",
      "--------\n",
      "numpy.reshape : similar function\n",
      "ndarray.reshape : similar method\n"
     ]
    }
   ],
   "source": [
    "# Asking for help\n",
    "np.info(np.ndarray.shape)"
   ]
  },
  {
   "cell_type": "code",
   "execution_count": 132,
   "id": "0272eeaa-69f1-42b5-99f8-755266bd258e",
   "metadata": {},
   "outputs": [
    {
     "data": {
      "text/plain": [
       "False"
      ]
     },
     "execution_count": 132,
     "metadata": {},
     "output_type": "execute_result"
    }
   ],
   "source": [
    "a=np.array((0.5, 8 , 9 ))\n",
    "b = np.array((-3. , -3. , -3.))\n",
    "np.add(a,b)\n",
    "np.divide(a,b)\n",
    "np.multiply(a,b)\n",
    "np.exp(b)\n",
    "np.sqrt(a)\n",
    "# print(a-b)\n",
    "# print(a*b)\n",
    "\n",
    "#comparisons\n",
    "a!=b\n",
    "a<2 #element-wise comparison\n",
    "np.array_equal(a,b) #array-wise comparison\n"
   ]
  },
  {
   "cell_type": "code",
   "execution_count": 12,
   "id": "853dc564-31fa-4622-b575-07e5a1acc0b5",
   "metadata": {},
   "outputs": [
    {
     "name": "stdout",
     "output_type": "stream",
     "text": [
      "14.0\n",
      "7.0\n",
      "[7. 2. 5.]\n",
      "[1 2 3]\n"
     ]
    }
   ],
   "source": [
    "#AGGREGATE FUNCTIONS\n",
    "f = np.array((7 , 2. , 5))\n",
    "print(f.sum())\n",
    "f.min()#Minimum value\n",
    "f.max() #Maximum value\n",
    "f.mean() #mean\n",
    "np.std(f) #standard deviation\n",
    "np.median(f)#median\n",
    "np.corrcoef(f) #correlation coefficient\n",
    "f.cumsum(axis=0) #cumulative sum of the elements\n",
    "f.max(axis =0) #maximum value of an array row\n",
    "#Copying array\n",
    "h = f.view() #Create a view of the array with the same data\n",
    "print(h)\n",
    "np.copy(a) #create a copy of the array\n",
    "h = a.copy() #create a deep copy of the array\n",
    "print(a)"
   ]
  },
  {
   "cell_type": "code",
   "execution_count": 8,
   "id": "df70a08b-05cf-46b1-aaec-8fc85077ae9e",
   "metadata": {},
   "outputs": [],
   "source": [
    "#Sorting Arrays\n",
    "f.sort()\n",
    "c.sort(axis=0) #Sort the elements of an array's axis"
   ]
  },
  {
   "cell_type": "code",
   "execution_count": 10,
   "id": "be4ff766-fe00-437b-9f37-4cbe13f5f432",
   "metadata": {},
   "outputs": [
    {
     "name": "stdout",
     "output_type": "stream",
     "text": [
      "[2. 5. 7.]\n",
      "[2. 5. 7.]\n"
     ]
    },
    {
     "data": {
      "text/plain": [
       "[array([2., 5.]), array([7., 1.]), array([2., 3.])]"
      ]
     },
     "execution_count": 10,
     "metadata": {},
     "output_type": "execute_result"
    }
   ],
   "source": [
    "# Subsetting, Slicing, Indexing\n",
    "print(f)\n",
    "f[2]\n",
    "f[0:2]\n",
    "f[f<4]\n",
    "#array manipulation\n",
    "i =np.transpose(f) #permute array dimensions\n",
    "print(i)\n",
    "i.T #permute array dimensions\n",
    "\n",
    "z = np.concatenate((f,a)) #combining arrays\n",
    "np.hsplit(z,3) #split the array horizontally at the 3rd index\n"
   ]
  },
  {
   "cell_type": "code",
   "execution_count": 11,
   "id": "ab90b3f3",
   "metadata": {},
   "outputs": [],
   "source": [
    "from matplotlib import pyplot as plt"
   ]
  },
  {
   "cell_type": "code",
   "execution_count": 21,
   "id": "81dbafae",
   "metadata": {},
   "outputs": [
    {
     "data": {
      "image/png": "[encoded data removed]",
      "text/plain": [
       "<Figure size 640x480 with 1 Axes>"
      ]
     },
     "metadata": {},
     "output_type": "display_data"
    }
   ],
   "source": [
    "d =np.array((3,6,8,9))\n",
    "k =np.array((3,4,5,6))\n",
    "plt.plot(d,k, 'm')\n",
    "plt.title(\"A title\")\n",
    "plt.xlabel(\"x-values\")\n",
    "plt.ylabel(\"y-label\")\n",
    "plt.show()"
   ]
  },
  {
   "cell_type": "code",
   "execution_count": null,
   "id": "2f65b373",
   "metadata": {},
   "outputs": [],
   "source": [
    "ZIP() Fu"
   ]
  },
  {
   "cell_type": "code",
   "execution_count": null,
   "id": "0c032b3b",
   "metadata": {},
   "outputs": [],
   "source": []
  },
  {
   "cell_type": "code",
   "execution_count": null,
   "id": "9cf41b3e",
   "metadata": {},
   "outputs": [],
   "source": []
  }
 ],
 "metadata": {
  "kernelspec": {
   "display_name": "Python 3 (ipykernel)",
   "language": "python",
   "name": "python3"
  },
  "language_info": {
   "codemirror_mode": {
    "name": "ipython",
    "version": 3
   },
   "file_extension": ".py",
   "mimetype": "text/x-python",
   "name": "python",
   "nbconvert_exporter": "python",
   "pygments_lexer": "ipython3",
   "version": "3.9.13"
  }
 },
 "nbformat": 4,
 "nbformat_minor": 5
}
