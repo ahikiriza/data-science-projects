{
 "cells": [
  {
   "cell_type": "code",
   "execution_count": 1,
   "id": "3318f159",
   "metadata": {},
   "outputs": [],
   "source": [
    "import pandas as pd\n",
    "import numpy as np\n",
    "import matplotlib.pyplot as plt\n",
    "import seaborn as sns\n",
    "import plotly.express as px\n",
    "%matplotlib inline"
   ]
  },
  {
   "cell_type": "code",
   "execution_count": 2,
   "id": "c58b9a26",
   "metadata": {},
   "outputs": [],
   "source": [
    "df =pd.read_csv('online_store_customer_data.csv')"
   ]
  },
  {
   "cell_type": "code",
   "execution_count": 3,
   "id": "1a165713",
   "metadata": {},
   "outputs": [
    {
     "data": {
      "text/html": [
       "<div>\n",
       "<style scoped>\n",
       "    .dataframe tbody tr th:only-of-type {\n",
       "        vertical-align: middle;\n",
       "    }\n",
       "\n",
       "    .dataframe tbody tr th {\n",
       "        vertical-align: top;\n",
       "    }\n",
       "\n",
       "    .dataframe thead th {\n",
       "        text-align: right;\n",
       "    }\n",
       "</style>\n",
       "<table border=\"1\" class=\"dataframe\">\n",
       "  <thead>\n",
       "    <tr style=\"text-align: right;\">\n",
       "      <th></th>\n",
       "      <th>Transaction_date</th>\n",
       "      <th>Transaction_ID</th>\n",
       "      <th>Gender</th>\n",
       "      <th>Age</th>\n",
       "      <th>Marital_status</th>\n",
       "      <th>State_names</th>\n",
       "      <th>Segment</th>\n",
       "      <th>Employees_status</th>\n",
       "      <th>Payment_method</th>\n",
       "      <th>Referal</th>\n",
       "      <th>Amount_spent</th>\n",
       "    </tr>\n",
       "  </thead>\n",
       "  <tbody>\n",
       "    <tr>\n",
       "      <th>0</th>\n",
       "      <td>1/1/2019</td>\n",
       "      <td>151200</td>\n",
       "      <td>Female</td>\n",
       "      <td>19.0</td>\n",
       "      <td>Single</td>\n",
       "      <td>Kansas</td>\n",
       "      <td>Basic</td>\n",
       "      <td>Unemployment</td>\n",
       "      <td>Other</td>\n",
       "      <td>1.0</td>\n",
       "      <td>2051.36</td>\n",
       "    </tr>\n",
       "    <tr>\n",
       "      <th>1</th>\n",
       "      <td>1/1/2019</td>\n",
       "      <td>151201</td>\n",
       "      <td>Male</td>\n",
       "      <td>49.0</td>\n",
       "      <td>Single</td>\n",
       "      <td>Illinois</td>\n",
       "      <td>Basic</td>\n",
       "      <td>self-employed</td>\n",
       "      <td>Card</td>\n",
       "      <td>0.0</td>\n",
       "      <td>544.04</td>\n",
       "    </tr>\n",
       "    <tr>\n",
       "      <th>2</th>\n",
       "      <td>1/1/2019</td>\n",
       "      <td>151202</td>\n",
       "      <td>Male</td>\n",
       "      <td>63.0</td>\n",
       "      <td>Married</td>\n",
       "      <td>New Mexico</td>\n",
       "      <td>Basic</td>\n",
       "      <td>workers</td>\n",
       "      <td>PayPal</td>\n",
       "      <td>1.0</td>\n",
       "      <td>1572.60</td>\n",
       "    </tr>\n",
       "    <tr>\n",
       "      <th>3</th>\n",
       "      <td>1/1/2019</td>\n",
       "      <td>151203</td>\n",
       "      <td>NaN</td>\n",
       "      <td>18.0</td>\n",
       "      <td>Single</td>\n",
       "      <td>Virginia</td>\n",
       "      <td>Platinum</td>\n",
       "      <td>workers</td>\n",
       "      <td>Card</td>\n",
       "      <td>1.0</td>\n",
       "      <td>1199.79</td>\n",
       "    </tr>\n",
       "    <tr>\n",
       "      <th>4</th>\n",
       "      <td>1/1/2019</td>\n",
       "      <td>151204</td>\n",
       "      <td>Male</td>\n",
       "      <td>27.0</td>\n",
       "      <td>Single</td>\n",
       "      <td>Connecticut</td>\n",
       "      <td>Basic</td>\n",
       "      <td>self-employed</td>\n",
       "      <td>Card</td>\n",
       "      <td>0.0</td>\n",
       "      <td>NaN</td>\n",
       "    </tr>\n",
       "  </tbody>\n",
       "</table>\n",
       "</div>"
      ],
      "text/plain": [
       "  Transaction_date  Transaction_ID  Gender   Age Marital_status  State_names  \\\n",
       "0         1/1/2019          151200  Female  19.0         Single       Kansas   \n",
       "1         1/1/2019          151201    Male  49.0         Single     Illinois   \n",
       "2         1/1/2019          151202    Male  63.0        Married   New Mexico   \n",
       "3         1/1/2019          151203     NaN  18.0         Single     Virginia   \n",
       "4         1/1/2019          151204    Male  27.0         Single  Connecticut   \n",
       "\n",
       "    Segment Employees_status Payment_method  Referal  Amount_spent  \n",
       "0     Basic     Unemployment          Other      1.0       2051.36  \n",
       "1     Basic    self-employed           Card      0.0        544.04  \n",
       "2     Basic          workers         PayPal      1.0       1572.60  \n",
       "3  Platinum          workers           Card      1.0       1199.79  \n",
       "4     Basic    self-employed           Card      0.0           NaN  "
      ]
     },
     "execution_count": 3,
     "metadata": {},
     "output_type": "execute_result"
    }
   ],
   "source": [
    "df.head()"
   ]
  },
  {
   "cell_type": "code",
   "execution_count": 4,
   "id": "5525c552",
   "metadata": {},
   "outputs": [
    {
     "data": {
      "text/plain": [
       "(2512, 11)"
      ]
     },
     "execution_count": 4,
     "metadata": {},
     "output_type": "execute_result"
    }
   ],
   "source": [
    "df.shape"
   ]
  },
  {
   "cell_type": "code",
   "execution_count": 44,
   "id": "ff1cc117",
   "metadata": {},
   "outputs": [
    {
     "data": {
      "text/plain": [
       "array(['Transaction_date', 'Transaction_ID', 'Gender', 'Age',\n",
       "       'Marital_status', 'State_names', 'Segment', 'Employees_status',\n",
       "       'Payment_method', 'Referal', 'Amount_spent'], dtype=object)"
      ]
     },
     "execution_count": 44,
     "metadata": {},
     "output_type": "execute_result"
    }
   ],
   "source": [
    "df.columns.values"
   ]
  },
  {
   "cell_type": "code",
   "execution_count": 45,
   "id": "8230bf2a",
   "metadata": {},
   "outputs": [
    {
     "name": "stdout",
     "output_type": "stream",
     "text": [
      "<class 'pandas.core.frame.DataFrame'>\n",
      "RangeIndex: 2512 entries, 0 to 2511\n",
      "Data columns (total 11 columns):\n",
      " #   Column            Non-Null Count  Dtype  \n",
      "---  ------            --------------  -----  \n",
      " 0   Transaction_date  2512 non-null   object \n",
      " 1   Transaction_ID    2512 non-null   int64  \n",
      " 2   Gender            2484 non-null   object \n",
      " 3   Age               2470 non-null   float64\n",
      " 4   Marital_status    2512 non-null   object \n",
      " 5   State_names       2512 non-null   object \n",
      " 6   Segment           2512 non-null   object \n",
      " 7   Employees_status  2486 non-null   object \n",
      " 8   Payment_method    2512 non-null   object \n",
      " 9   Referal           2357 non-null   float64\n",
      " 10  Amount_spent      2270 non-null   float64\n",
      "dtypes: float64(3), int64(1), object(7)\n",
      "memory usage: 216.0+ KB\n"
     ]
    }
   ],
   "source": [
    "df.info()"
   ]
  },
  {
   "cell_type": "code",
   "execution_count": 46,
   "id": "e84c1cfd",
   "metadata": {},
   "outputs": [
    {
     "data": {
      "text/html": [
       "<div>\n",
       "<style scoped>\n",
       "    .dataframe tbody tr th:only-of-type {\n",
       "        vertical-align: middle;\n",
       "    }\n",
       "\n",
       "    .dataframe tbody tr th {\n",
       "        vertical-align: top;\n",
       "    }\n",
       "\n",
       "    .dataframe thead th {\n",
       "        text-align: right;\n",
       "    }\n",
       "</style>\n",
       "<table border=\"1\" class=\"dataframe\">\n",
       "  <thead>\n",
       "    <tr style=\"text-align: right;\">\n",
       "      <th></th>\n",
       "      <th>Transaction_ID</th>\n",
       "      <th>Age</th>\n",
       "      <th>Referal</th>\n",
       "      <th>Amount_spent</th>\n",
       "    </tr>\n",
       "  </thead>\n",
       "  <tbody>\n",
       "    <tr>\n",
       "      <th>count</th>\n",
       "      <td>2512.000000</td>\n",
       "      <td>2470.000000</td>\n",
       "      <td>2357.000000</td>\n",
       "      <td>2270.000000</td>\n",
       "    </tr>\n",
       "    <tr>\n",
       "      <th>mean</th>\n",
       "      <td>152443.931131</td>\n",
       "      <td>46.637652</td>\n",
       "      <td>0.652100</td>\n",
       "      <td>1418.422577</td>\n",
       "    </tr>\n",
       "    <tr>\n",
       "      <th>std</th>\n",
       "      <td>724.580482</td>\n",
       "      <td>18.186277</td>\n",
       "      <td>0.476405</td>\n",
       "      <td>878.507451</td>\n",
       "    </tr>\n",
       "    <tr>\n",
       "      <th>min</th>\n",
       "      <td>151200.000000</td>\n",
       "      <td>15.000000</td>\n",
       "      <td>0.000000</td>\n",
       "      <td>2.090000</td>\n",
       "    </tr>\n",
       "    <tr>\n",
       "      <th>25%</th>\n",
       "      <td>151815.750000</td>\n",
       "      <td>32.000000</td>\n",
       "      <td>0.000000</td>\n",
       "      <td>678.192500</td>\n",
       "    </tr>\n",
       "    <tr>\n",
       "      <th>50%</th>\n",
       "      <td>152443.500000</td>\n",
       "      <td>47.000000</td>\n",
       "      <td>1.000000</td>\n",
       "      <td>1341.435000</td>\n",
       "    </tr>\n",
       "    <tr>\n",
       "      <th>75%</th>\n",
       "      <td>153071.250000</td>\n",
       "      <td>62.000000</td>\n",
       "      <td>1.000000</td>\n",
       "      <td>2038.102500</td>\n",
       "    </tr>\n",
       "    <tr>\n",
       "      <th>max</th>\n",
       "      <td>153699.000000</td>\n",
       "      <td>78.000000</td>\n",
       "      <td>1.000000</td>\n",
       "      <td>2999.980000</td>\n",
       "    </tr>\n",
       "  </tbody>\n",
       "</table>\n",
       "</div>"
      ],
      "text/plain": [
       "       Transaction_ID          Age      Referal  Amount_spent\n",
       "count     2512.000000  2470.000000  2357.000000   2270.000000\n",
       "mean    152443.931131    46.637652     0.652100   1418.422577\n",
       "std        724.580482    18.186277     0.476405    878.507451\n",
       "min     151200.000000    15.000000     0.000000      2.090000\n",
       "25%     151815.750000    32.000000     0.000000    678.192500\n",
       "50%     152443.500000    47.000000     1.000000   1341.435000\n",
       "75%     153071.250000    62.000000     1.000000   2038.102500\n",
       "max     153699.000000    78.000000     1.000000   2999.980000"
      ]
     },
     "execution_count": 46,
     "metadata": {},
     "output_type": "execute_result"
    }
   ],
   "source": [
    "df.describe()\n"
   ]
  },
  {
   "cell_type": "code",
   "execution_count": 11,
   "id": "59af6937",
   "metadata": {},
   "outputs": [
    {
     "data": {
      "text/plain": [
       "Index(['Transaction_date', 'Gender', 'Marital_status', 'State_names',\n",
       "       'Segment', 'Employees_status', 'Payment_method'],\n",
       "      dtype='object')"
      ]
     },
     "execution_count": 11,
     "metadata": {},
     "output_type": "execute_result"
    }
   ],
   "source": [
    "df.select_dtypes(include='object').columns"
   ]
  },
  {
   "cell_type": "code",
   "execution_count": 26,
   "id": "5249287f",
   "metadata": {},
   "outputs": [
    {
     "data": {
      "text/plain": [
       "7"
      ]
     },
     "execution_count": 26,
     "metadata": {},
     "output_type": "execute_result"
    }
   ],
   "source": [
    "len(df.select_dtypes(include ='object').columns)"
   ]
  },
  {
   "cell_type": "code",
   "execution_count": 27,
   "id": "30809dab",
   "metadata": {},
   "outputs": [
    {
     "data": {
      "text/plain": [
       "3"
      ]
     },
     "execution_count": 27,
     "metadata": {},
     "output_type": "execute_result"
    }
   ],
   "source": [
    "len(df.select_dtypes(include ='float64').columns)"
   ]
  },
  {
   "cell_type": "code",
   "execution_count": 29,
   "id": "57430a81",
   "metadata": {},
   "outputs": [
    {
     "data": {
      "text/plain": [
       "1"
      ]
     },
     "execution_count": 29,
     "metadata": {},
     "output_type": "execute_result"
    }
   ],
   "source": [
    "len(df.select_dtypes(include ='int64').columns)"
   ]
  },
  {
   "cell_type": "code",
   "execution_count": 31,
   "id": "c0ed6b6d",
   "metadata": {},
   "outputs": [
    {
     "data": {
      "text/plain": [
       "True"
      ]
     },
     "execution_count": 31,
     "metadata": {},
     "output_type": "execute_result"
    }
   ],
   "source": [
    "df.isnull().values.any()"
   ]
  },
  {
   "cell_type": "code",
   "execution_count": 48,
   "id": "e6cd0ff8",
   "metadata": {},
   "outputs": [
    {
     "data": {
      "text/plain": [
       "Transaction_date      0\n",
       "Transaction_ID        0\n",
       "Gender               28\n",
       "Age                  42\n",
       "Marital_status        0\n",
       "State_names           0\n",
       "Segment               0\n",
       "Employees_status     26\n",
       "Payment_method        0\n",
       "Referal             155\n",
       "Amount_spent        242\n",
       "dtype: int64"
      ]
     },
     "execution_count": 48,
     "metadata": {},
     "output_type": "execute_result"
    }
   ],
   "source": [
    "df.isnull().sum()"
   ]
  },
  {
   "cell_type": "code",
   "execution_count": 33,
   "id": "fbbbbaba",
   "metadata": {},
   "outputs": [
    {
     "data": {
      "text/plain": [
       "27632"
      ]
     },
     "execution_count": 33,
     "metadata": {},
     "output_type": "execute_result"
    }
   ],
   "source": [
    "df.size"
   ]
  },
  {
   "cell_type": "code",
   "execution_count": 12,
   "id": "51a59ce6",
   "metadata": {},
   "outputs": [],
   "source": [
    "#dropping null values\n",
    "df.dropna(inplace =True)"
   ]
  },
  {
   "cell_type": "code",
   "execution_count": 50,
   "id": "b5366d74",
   "metadata": {},
   "outputs": [
    {
     "data": {
      "text/plain": [
       "(2044, 11)"
      ]
     },
     "execution_count": 50,
     "metadata": {},
     "output_type": "execute_result"
    }
   ],
   "source": [
    "df.shape"
   ]
  },
  {
   "cell_type": "code",
   "execution_count": 52,
   "id": "ea821ad8",
   "metadata": {},
   "outputs": [
    {
     "data": {
      "text/plain": [
       "False"
      ]
     },
     "execution_count": 52,
     "metadata": {},
     "output_type": "execute_result"
    }
   ],
   "source": [
    "df.isnull().values.any()"
   ]
  },
  {
   "cell_type": "code",
   "execution_count": 53,
   "id": "ed558ec9",
   "metadata": {},
   "outputs": [
    {
     "data": {
      "text/plain": [
       "Transaction_date    0\n",
       "Transaction_ID      0\n",
       "Gender              0\n",
       "Age                 0\n",
       "Marital_status      0\n",
       "State_names         0\n",
       "Segment             0\n",
       "Employees_status    0\n",
       "Payment_method      0\n",
       "Referal             0\n",
       "Amount_spent        0\n",
       "dtype: int64"
      ]
     },
     "execution_count": 53,
     "metadata": {},
     "output_type": "execute_result"
    }
   ],
   "source": [
    "df.isnull().sum()"
   ]
  },
  {
   "cell_type": "code",
   "execution_count": 54,
   "id": "7ce9ea6d",
   "metadata": {},
   "outputs": [
    {
     "data": {
      "text/html": [
       "<div>\n",
       "<style scoped>\n",
       "    .dataframe tbody tr th:only-of-type {\n",
       "        vertical-align: middle;\n",
       "    }\n",
       "\n",
       "    .dataframe tbody tr th {\n",
       "        vertical-align: top;\n",
       "    }\n",
       "\n",
       "    .dataframe thead th {\n",
       "        text-align: right;\n",
       "    }\n",
       "</style>\n",
       "<table border=\"1\" class=\"dataframe\">\n",
       "  <thead>\n",
       "    <tr style=\"text-align: right;\">\n",
       "      <th></th>\n",
       "      <th>Transaction_date</th>\n",
       "      <th>Transaction_ID</th>\n",
       "      <th>Gender</th>\n",
       "      <th>Age</th>\n",
       "      <th>Marital_status</th>\n",
       "      <th>State_names</th>\n",
       "      <th>Segment</th>\n",
       "      <th>Employees_status</th>\n",
       "      <th>Payment_method</th>\n",
       "      <th>Referal</th>\n",
       "      <th>Amount_spent</th>\n",
       "    </tr>\n",
       "  </thead>\n",
       "  <tbody>\n",
       "    <tr>\n",
       "      <th>0</th>\n",
       "      <td>1/1/2019</td>\n",
       "      <td>151200</td>\n",
       "      <td>Female</td>\n",
       "      <td>19.0</td>\n",
       "      <td>Single</td>\n",
       "      <td>Kansas</td>\n",
       "      <td>Basic</td>\n",
       "      <td>Unemployment</td>\n",
       "      <td>Other</td>\n",
       "      <td>1.0</td>\n",
       "      <td>2051.36</td>\n",
       "    </tr>\n",
       "    <tr>\n",
       "      <th>1</th>\n",
       "      <td>1/1/2019</td>\n",
       "      <td>151201</td>\n",
       "      <td>Male</td>\n",
       "      <td>49.0</td>\n",
       "      <td>Single</td>\n",
       "      <td>Illinois</td>\n",
       "      <td>Basic</td>\n",
       "      <td>self-employed</td>\n",
       "      <td>Card</td>\n",
       "      <td>0.0</td>\n",
       "      <td>544.04</td>\n",
       "    </tr>\n",
       "    <tr>\n",
       "      <th>2</th>\n",
       "      <td>1/1/2019</td>\n",
       "      <td>151202</td>\n",
       "      <td>Male</td>\n",
       "      <td>63.0</td>\n",
       "      <td>Married</td>\n",
       "      <td>New Mexico</td>\n",
       "      <td>Basic</td>\n",
       "      <td>workers</td>\n",
       "      <td>PayPal</td>\n",
       "      <td>1.0</td>\n",
       "      <td>1572.60</td>\n",
       "    </tr>\n",
       "    <tr>\n",
       "      <th>5</th>\n",
       "      <td>1/3/2019</td>\n",
       "      <td>151205</td>\n",
       "      <td>Male</td>\n",
       "      <td>71.0</td>\n",
       "      <td>Single</td>\n",
       "      <td>Hawaii</td>\n",
       "      <td>Basic</td>\n",
       "      <td>Employees</td>\n",
       "      <td>PayPal</td>\n",
       "      <td>1.0</td>\n",
       "      <td>2922.66</td>\n",
       "    </tr>\n",
       "    <tr>\n",
       "      <th>6</th>\n",
       "      <td>1/3/2019</td>\n",
       "      <td>151206</td>\n",
       "      <td>Female</td>\n",
       "      <td>34.0</td>\n",
       "      <td>Married</td>\n",
       "      <td>New Mexico</td>\n",
       "      <td>Platinum</td>\n",
       "      <td>Employees</td>\n",
       "      <td>PayPal</td>\n",
       "      <td>1.0</td>\n",
       "      <td>1481.42</td>\n",
       "    </tr>\n",
       "  </tbody>\n",
       "</table>\n",
       "</div>"
      ],
      "text/plain": [
       "  Transaction_date  Transaction_ID  Gender   Age Marital_status State_names  \\\n",
       "0         1/1/2019          151200  Female  19.0         Single      Kansas   \n",
       "1         1/1/2019          151201    Male  49.0         Single    Illinois   \n",
       "2         1/1/2019          151202    Male  63.0        Married  New Mexico   \n",
       "5         1/3/2019          151205    Male  71.0         Single      Hawaii   \n",
       "6         1/3/2019          151206  Female  34.0        Married  New Mexico   \n",
       "\n",
       "    Segment Employees_status Payment_method  Referal  Amount_spent  \n",
       "0     Basic     Unemployment          Other      1.0       2051.36  \n",
       "1     Basic    self-employed           Card      0.0        544.04  \n",
       "2     Basic          workers         PayPal      1.0       1572.60  \n",
       "5     Basic        Employees         PayPal      1.0       2922.66  \n",
       "6  Platinum        Employees         PayPal      1.0       1481.42  "
      ]
     },
     "execution_count": 54,
     "metadata": {},
     "output_type": "execute_result"
    }
   ],
   "source": [
    "df.head()"
   ]
  },
  {
   "cell_type": "code",
   "execution_count": 13,
   "id": "1cfb7710",
   "metadata": {},
   "outputs": [
    {
     "data": {
      "text/plain": [
       "False    2034\n",
       "True       10\n",
       "dtype: int64"
      ]
     },
     "execution_count": 13,
     "metadata": {},
     "output_type": "execute_result"
    }
   ],
   "source": [
    "#checking the duplicated values\n",
    "df.duplicated().value_counts()"
   ]
  },
  {
   "cell_type": "code",
   "execution_count": 14,
   "id": "230fcbdd",
   "metadata": {},
   "outputs": [],
   "source": [
    "#dropping the duplicates\n",
    "df.drop_duplicates(inplace=True)"
   ]
  },
  {
   "cell_type": "code",
   "execution_count": 58,
   "id": "1885838c",
   "metadata": {},
   "outputs": [
    {
     "data": {
      "text/plain": [
       "False    2034\n",
       "dtype: int64"
      ]
     },
     "execution_count": 58,
     "metadata": {},
     "output_type": "execute_result"
    }
   ],
   "source": [
    "df.duplicated().value_counts()"
   ]
  },
  {
   "cell_type": "code",
   "execution_count": 59,
   "id": "902ce1c2",
   "metadata": {},
   "outputs": [
    {
     "data": {
      "text/plain": [
       "(2034, 11)"
      ]
     },
     "execution_count": 59,
     "metadata": {},
     "output_type": "execute_result"
    }
   ],
   "source": [
    "df.shape"
   ]
  },
  {
   "cell_type": "code",
   "execution_count": 60,
   "id": "609cfef2",
   "metadata": {},
   "outputs": [
    {
     "name": "stdout",
     "output_type": "stream",
     "text": [
      "<class 'pandas.core.frame.DataFrame'>\n",
      "Int64Index: 2034 entries, 0 to 2511\n",
      "Data columns (total 11 columns):\n",
      " #   Column            Non-Null Count  Dtype  \n",
      "---  ------            --------------  -----  \n",
      " 0   Transaction_date  2034 non-null   object \n",
      " 1   Transaction_ID    2034 non-null   int64  \n",
      " 2   Gender            2034 non-null   object \n",
      " 3   Age               2034 non-null   float64\n",
      " 4   Marital_status    2034 non-null   object \n",
      " 5   State_names       2034 non-null   object \n",
      " 6   Segment           2034 non-null   object \n",
      " 7   Employees_status  2034 non-null   object \n",
      " 8   Payment_method    2034 non-null   object \n",
      " 9   Referal           2034 non-null   float64\n",
      " 10  Amount_spent      2034 non-null   float64\n",
      "dtypes: float64(3), int64(1), object(7)\n",
      "memory usage: 190.7+ KB\n"
     ]
    }
   ],
   "source": [
    "#determing the datatypes\n",
    "df.info()"
   ]
  },
  {
   "cell_type": "code",
   "execution_count": 61,
   "id": "49cbd169",
   "metadata": {},
   "outputs": [
    {
     "data": {
      "text/plain": [
       "Transaction_date     object\n",
       "Transaction_ID        int64\n",
       "Gender               object\n",
       "Age                 float64\n",
       "Marital_status       object\n",
       "State_names          object\n",
       "Segment              object\n",
       "Employees_status     object\n",
       "Payment_method       object\n",
       "Referal             float64\n",
       "Amount_spent        float64\n",
       "dtype: object"
      ]
     },
     "execution_count": 61,
     "metadata": {},
     "output_type": "execute_result"
    }
   ],
   "source": [
    "df.dtypes"
   ]
  },
  {
   "cell_type": "code",
   "execution_count": 15,
   "id": "faa509dd",
   "metadata": {},
   "outputs": [],
   "source": [
    "#changing the datatype of date from object to datetime\n",
    "df['Transaction_date']=df['Transaction_date'].apply(pd.to_datetime)"
   ]
  },
  {
   "cell_type": "code",
   "execution_count": 16,
   "id": "5c650335",
   "metadata": {},
   "outputs": [
    {
     "data": {
      "text/html": [
       "<div>\n",
       "<style scoped>\n",
       "    .dataframe tbody tr th:only-of-type {\n",
       "        vertical-align: middle;\n",
       "    }\n",
       "\n",
       "    .dataframe tbody tr th {\n",
       "        vertical-align: top;\n",
       "    }\n",
       "\n",
       "    .dataframe thead th {\n",
       "        text-align: right;\n",
       "    }\n",
       "</style>\n",
       "<table border=\"1\" class=\"dataframe\">\n",
       "  <thead>\n",
       "    <tr style=\"text-align: right;\">\n",
       "      <th></th>\n",
       "      <th>Transaction_date</th>\n",
       "      <th>Transaction_ID</th>\n",
       "      <th>Gender</th>\n",
       "      <th>Age</th>\n",
       "      <th>Marital_status</th>\n",
       "      <th>State_names</th>\n",
       "      <th>Segment</th>\n",
       "      <th>Employees_status</th>\n",
       "      <th>Payment_method</th>\n",
       "      <th>Referal</th>\n",
       "      <th>Amount_spent</th>\n",
       "    </tr>\n",
       "  </thead>\n",
       "  <tbody>\n",
       "    <tr>\n",
       "      <th>0</th>\n",
       "      <td>2019-01-01</td>\n",
       "      <td>151200</td>\n",
       "      <td>Female</td>\n",
       "      <td>19.0</td>\n",
       "      <td>Single</td>\n",
       "      <td>Kansas</td>\n",
       "      <td>Basic</td>\n",
       "      <td>Unemployment</td>\n",
       "      <td>Other</td>\n",
       "      <td>1.0</td>\n",
       "      <td>2051.36</td>\n",
       "    </tr>\n",
       "    <tr>\n",
       "      <th>1</th>\n",
       "      <td>2019-01-01</td>\n",
       "      <td>151201</td>\n",
       "      <td>Male</td>\n",
       "      <td>49.0</td>\n",
       "      <td>Single</td>\n",
       "      <td>Illinois</td>\n",
       "      <td>Basic</td>\n",
       "      <td>self-employed</td>\n",
       "      <td>Card</td>\n",
       "      <td>0.0</td>\n",
       "      <td>544.04</td>\n",
       "    </tr>\n",
       "    <tr>\n",
       "      <th>2</th>\n",
       "      <td>2019-01-01</td>\n",
       "      <td>151202</td>\n",
       "      <td>Male</td>\n",
       "      <td>63.0</td>\n",
       "      <td>Married</td>\n",
       "      <td>New Mexico</td>\n",
       "      <td>Basic</td>\n",
       "      <td>workers</td>\n",
       "      <td>PayPal</td>\n",
       "      <td>1.0</td>\n",
       "      <td>1572.60</td>\n",
       "    </tr>\n",
       "    <tr>\n",
       "      <th>5</th>\n",
       "      <td>2019-01-03</td>\n",
       "      <td>151205</td>\n",
       "      <td>Male</td>\n",
       "      <td>71.0</td>\n",
       "      <td>Single</td>\n",
       "      <td>Hawaii</td>\n",
       "      <td>Basic</td>\n",
       "      <td>Employees</td>\n",
       "      <td>PayPal</td>\n",
       "      <td>1.0</td>\n",
       "      <td>2922.66</td>\n",
       "    </tr>\n",
       "    <tr>\n",
       "      <th>6</th>\n",
       "      <td>2019-01-03</td>\n",
       "      <td>151206</td>\n",
       "      <td>Female</td>\n",
       "      <td>34.0</td>\n",
       "      <td>Married</td>\n",
       "      <td>New Mexico</td>\n",
       "      <td>Platinum</td>\n",
       "      <td>Employees</td>\n",
       "      <td>PayPal</td>\n",
       "      <td>1.0</td>\n",
       "      <td>1481.42</td>\n",
       "    </tr>\n",
       "  </tbody>\n",
       "</table>\n",
       "</div>"
      ],
      "text/plain": [
       "  Transaction_date  Transaction_ID  Gender   Age Marital_status State_names  \\\n",
       "0       2019-01-01          151200  Female  19.0         Single      Kansas   \n",
       "1       2019-01-01          151201    Male  49.0         Single    Illinois   \n",
       "2       2019-01-01          151202    Male  63.0        Married  New Mexico   \n",
       "5       2019-01-03          151205    Male  71.0         Single      Hawaii   \n",
       "6       2019-01-03          151206  Female  34.0        Married  New Mexico   \n",
       "\n",
       "    Segment Employees_status Payment_method  Referal  Amount_spent  \n",
       "0     Basic     Unemployment          Other      1.0       2051.36  \n",
       "1     Basic    self-employed           Card      0.0        544.04  \n",
       "2     Basic          workers         PayPal      1.0       1572.60  \n",
       "5     Basic        Employees         PayPal      1.0       2922.66  \n",
       "6  Platinum        Employees         PayPal      1.0       1481.42  "
      ]
     },
     "execution_count": 16,
     "metadata": {},
     "output_type": "execute_result"
    }
   ],
   "source": [
    "df.head()\n"
   ]
  },
  {
   "cell_type": "code",
   "execution_count": 67,
   "id": "b9585381",
   "metadata": {},
   "outputs": [
    {
     "data": {
      "text/plain": [
       "Transaction_date    datetime64[ns]\n",
       "Transaction_ID               int64\n",
       "Gender                      object\n",
       "Age                        float64\n",
       "Marital_status              object\n",
       "State_names                 object\n",
       "Segment                     object\n",
       "Employees_status            object\n",
       "Payment_method              object\n",
       "Referal                    float64\n",
       "Amount_spent               float64\n",
       "dtype: object"
      ]
     },
     "execution_count": 67,
     "metadata": {},
     "output_type": "execute_result"
    }
   ],
   "source": [
    "df.dtypes"
   ]
  },
  {
   "cell_type": "code",
   "execution_count": 17,
   "id": "510075fa",
   "metadata": {},
   "outputs": [],
   "source": [
    "#changing the datatype of [referal and age] from float to integer\n",
    "df['Age'] =df['Age'].astype(int)\n",
    "df['Referal']=df['Referal'].astype(int)"
   ]
  },
  {
   "cell_type": "code",
   "execution_count": 70,
   "id": "0697e2f7",
   "metadata": {},
   "outputs": [
    {
     "name": "stdout",
     "output_type": "stream",
     "text": [
      "<class 'pandas.core.frame.DataFrame'>\n",
      "Int64Index: 2034 entries, 0 to 2511\n",
      "Data columns (total 11 columns):\n",
      " #   Column            Non-Null Count  Dtype         \n",
      "---  ------            --------------  -----         \n",
      " 0   Transaction_date  2034 non-null   datetime64[ns]\n",
      " 1   Transaction_ID    2034 non-null   int64         \n",
      " 2   Gender            2034 non-null   object        \n",
      " 3   Age               2034 non-null   int32         \n",
      " 4   Marital_status    2034 non-null   object        \n",
      " 5   State_names       2034 non-null   object        \n",
      " 6   Segment           2034 non-null   object        \n",
      " 7   Employees_status  2034 non-null   object        \n",
      " 8   Payment_method    2034 non-null   object        \n",
      " 9   Referal           2034 non-null   int32         \n",
      " 10  Amount_spent      2034 non-null   float64       \n",
      "dtypes: datetime64[ns](1), float64(1), int32(2), int64(1), object(6)\n",
      "memory usage: 174.8+ KB\n"
     ]
    }
   ],
   "source": [
    "df.info()"
   ]
  },
  {
   "cell_type": "code",
   "execution_count": 76,
   "id": "0690667e",
   "metadata": {},
   "outputs": [
    {
     "data": {
      "text/html": [
       "<div>\n",
       "<style scoped>\n",
       "    .dataframe tbody tr th:only-of-type {\n",
       "        vertical-align: middle;\n",
       "    }\n",
       "\n",
       "    .dataframe tbody tr th {\n",
       "        vertical-align: top;\n",
       "    }\n",
       "\n",
       "    .dataframe thead th {\n",
       "        text-align: right;\n",
       "    }\n",
       "</style>\n",
       "<table border=\"1\" class=\"dataframe\">\n",
       "  <thead>\n",
       "    <tr style=\"text-align: right;\">\n",
       "      <th></th>\n",
       "      <th>Transaction_date</th>\n",
       "      <th>Transaction_ID</th>\n",
       "      <th>Gender</th>\n",
       "      <th>Age</th>\n",
       "      <th>Marital_status</th>\n",
       "      <th>State_names</th>\n",
       "      <th>Segment</th>\n",
       "      <th>Employees_status</th>\n",
       "      <th>Payment_method</th>\n",
       "      <th>Referal</th>\n",
       "      <th>Amount_spent</th>\n",
       "    </tr>\n",
       "  </thead>\n",
       "  <tbody>\n",
       "    <tr>\n",
       "      <th>0</th>\n",
       "      <td>2019-01-01</td>\n",
       "      <td>151200</td>\n",
       "      <td>Female</td>\n",
       "      <td>19</td>\n",
       "      <td>Single</td>\n",
       "      <td>Kansas</td>\n",
       "      <td>Basic</td>\n",
       "      <td>Unemployment</td>\n",
       "      <td>Other</td>\n",
       "      <td>1</td>\n",
       "      <td>2051.36</td>\n",
       "    </tr>\n",
       "    <tr>\n",
       "      <th>1</th>\n",
       "      <td>2019-01-01</td>\n",
       "      <td>151201</td>\n",
       "      <td>Male</td>\n",
       "      <td>49</td>\n",
       "      <td>Single</td>\n",
       "      <td>Illinois</td>\n",
       "      <td>Basic</td>\n",
       "      <td>self-employed</td>\n",
       "      <td>Card</td>\n",
       "      <td>0</td>\n",
       "      <td>544.04</td>\n",
       "    </tr>\n",
       "    <tr>\n",
       "      <th>2</th>\n",
       "      <td>2019-01-01</td>\n",
       "      <td>151202</td>\n",
       "      <td>Male</td>\n",
       "      <td>63</td>\n",
       "      <td>Married</td>\n",
       "      <td>New Mexico</td>\n",
       "      <td>Basic</td>\n",
       "      <td>workers</td>\n",
       "      <td>PayPal</td>\n",
       "      <td>1</td>\n",
       "      <td>1572.60</td>\n",
       "    </tr>\n",
       "    <tr>\n",
       "      <th>5</th>\n",
       "      <td>2019-01-03</td>\n",
       "      <td>151205</td>\n",
       "      <td>Male</td>\n",
       "      <td>71</td>\n",
       "      <td>Single</td>\n",
       "      <td>Hawaii</td>\n",
       "      <td>Basic</td>\n",
       "      <td>Employees</td>\n",
       "      <td>PayPal</td>\n",
       "      <td>1</td>\n",
       "      <td>2922.66</td>\n",
       "    </tr>\n",
       "    <tr>\n",
       "      <th>6</th>\n",
       "      <td>2019-01-03</td>\n",
       "      <td>151206</td>\n",
       "      <td>Female</td>\n",
       "      <td>34</td>\n",
       "      <td>Married</td>\n",
       "      <td>New Mexico</td>\n",
       "      <td>Platinum</td>\n",
       "      <td>Employees</td>\n",
       "      <td>PayPal</td>\n",
       "      <td>1</td>\n",
       "      <td>1481.42</td>\n",
       "    </tr>\n",
       "  </tbody>\n",
       "</table>\n",
       "</div>"
      ],
      "text/plain": [
       "  Transaction_date  Transaction_ID  Gender  Age Marital_status State_names  \\\n",
       "0       2019-01-01          151200  Female   19         Single      Kansas   \n",
       "1       2019-01-01          151201    Male   49         Single    Illinois   \n",
       "2       2019-01-01          151202    Male   63        Married  New Mexico   \n",
       "5       2019-01-03          151205    Male   71         Single      Hawaii   \n",
       "6       2019-01-03          151206  Female   34        Married  New Mexico   \n",
       "\n",
       "    Segment Employees_status Payment_method  Referal  Amount_spent  \n",
       "0     Basic     Unemployment          Other        1       2051.36  \n",
       "1     Basic    self-employed           Card        0        544.04  \n",
       "2     Basic          workers         PayPal        1       1572.60  \n",
       "5     Basic        Employees         PayPal        1       2922.66  \n",
       "6  Platinum        Employees         PayPal        1       1481.42  "
      ]
     },
     "execution_count": 76,
     "metadata": {},
     "output_type": "execute_result"
    }
   ],
   "source": [
    "df.head()"
   ]
  },
  {
   "cell_type": "code",
   "execution_count": null,
   "id": "1b899674",
   "metadata": {},
   "outputs": [],
   "source": [
    "#statistical summary of age and amount spent"
   ]
  },
  {
   "cell_type": "code",
   "execution_count": 18,
   "id": "8aea00ca",
   "metadata": {},
   "outputs": [
    {
     "data": {
      "text/html": [
       "<div>\n",
       "<style scoped>\n",
       "    .dataframe tbody tr th:only-of-type {\n",
       "        vertical-align: middle;\n",
       "    }\n",
       "\n",
       "    .dataframe tbody tr th {\n",
       "        vertical-align: top;\n",
       "    }\n",
       "\n",
       "    .dataframe thead th {\n",
       "        text-align: right;\n",
       "    }\n",
       "</style>\n",
       "<table border=\"1\" class=\"dataframe\">\n",
       "  <thead>\n",
       "    <tr style=\"text-align: right;\">\n",
       "      <th></th>\n",
       "      <th>Age</th>\n",
       "      <th>Amount_spent</th>\n",
       "    </tr>\n",
       "  </thead>\n",
       "  <tbody>\n",
       "    <tr>\n",
       "      <th>count</th>\n",
       "      <td>2034.000000</td>\n",
       "      <td>2034.000000</td>\n",
       "    </tr>\n",
       "    <tr>\n",
       "      <th>mean</th>\n",
       "      <td>46.897247</td>\n",
       "      <td>1430.370492</td>\n",
       "    </tr>\n",
       "    <tr>\n",
       "      <th>std</th>\n",
       "      <td>18.218701</td>\n",
       "      <td>884.733030</td>\n",
       "    </tr>\n",
       "    <tr>\n",
       "      <th>min</th>\n",
       "      <td>15.000000</td>\n",
       "      <td>2.090000</td>\n",
       "    </tr>\n",
       "    <tr>\n",
       "      <th>25%</th>\n",
       "      <td>32.000000</td>\n",
       "      <td>678.192500</td>\n",
       "    </tr>\n",
       "    <tr>\n",
       "      <th>50%</th>\n",
       "      <td>47.000000</td>\n",
       "      <td>1358.310000</td>\n",
       "    </tr>\n",
       "    <tr>\n",
       "      <th>75%</th>\n",
       "      <td>62.000000</td>\n",
       "      <td>2056.622500</td>\n",
       "    </tr>\n",
       "    <tr>\n",
       "      <th>max</th>\n",
       "      <td>78.000000</td>\n",
       "      <td>2999.980000</td>\n",
       "    </tr>\n",
       "  </tbody>\n",
       "</table>\n",
       "</div>"
      ],
      "text/plain": [
       "               Age  Amount_spent\n",
       "count  2034.000000   2034.000000\n",
       "mean     46.897247   1430.370492\n",
       "std      18.218701    884.733030\n",
       "min      15.000000      2.090000\n",
       "25%      32.000000    678.192500\n",
       "50%      47.000000   1358.310000\n",
       "75%      62.000000   2056.622500\n",
       "max      78.000000   2999.980000"
      ]
     },
     "execution_count": 18,
     "metadata": {},
     "output_type": "execute_result"
    }
   ],
   "source": [
    "df.drop(columns=['Transaction_ID', 'Referal']).describe()"
   ]
  },
  {
   "cell_type": "code",
   "execution_count": 19,
   "id": "b5d1df43",
   "metadata": {},
   "outputs": [
    {
     "data": {
      "text/plain": [
       "Transaction_date     787\n",
       "Transaction_ID      2034\n",
       "Gender                 2\n",
       "Age                   63\n",
       "Marital_status         2\n",
       "State_names           50\n",
       "Segment                5\n",
       "Employees_status       4\n",
       "Payment_method         3\n",
       "Referal                2\n",
       "Amount_spent        2028\n",
       "dtype: int64"
      ]
     },
     "execution_count": 19,
     "metadata": {},
     "output_type": "execute_result"
    }
   ],
   "source": [
    "#checking the unique values in each column\n",
    "df.nunique()\n"
   ]
  },
  {
   "cell_type": "code",
   "execution_count": 20,
   "id": "f8da6b87",
   "metadata": {},
   "outputs": [],
   "source": [
    "#correcting the index\n",
    "df.reset_index(inplace=True)"
   ]
  },
  {
   "cell_type": "code",
   "execution_count": 83,
   "id": "fc192667",
   "metadata": {},
   "outputs": [
    {
     "data": {
      "text/html": [
       "<div>\n",
       "<style scoped>\n",
       "    .dataframe tbody tr th:only-of-type {\n",
       "        vertical-align: middle;\n",
       "    }\n",
       "\n",
       "    .dataframe tbody tr th {\n",
       "        vertical-align: top;\n",
       "    }\n",
       "\n",
       "    .dataframe thead th {\n",
       "        text-align: right;\n",
       "    }\n",
       "</style>\n",
       "<table border=\"1\" class=\"dataframe\">\n",
       "  <thead>\n",
       "    <tr style=\"text-align: right;\">\n",
       "      <th></th>\n",
       "      <th>index</th>\n",
       "      <th>Transaction_date</th>\n",
       "      <th>Transaction_ID</th>\n",
       "      <th>Gender</th>\n",
       "      <th>Age</th>\n",
       "      <th>Marital_status</th>\n",
       "      <th>State_names</th>\n",
       "      <th>Segment</th>\n",
       "      <th>Employees_status</th>\n",
       "      <th>Payment_method</th>\n",
       "      <th>Referal</th>\n",
       "      <th>Amount_spent</th>\n",
       "    </tr>\n",
       "  </thead>\n",
       "  <tbody>\n",
       "    <tr>\n",
       "      <th>0</th>\n",
       "      <td>0</td>\n",
       "      <td>2019-01-01</td>\n",
       "      <td>151200</td>\n",
       "      <td>Female</td>\n",
       "      <td>19</td>\n",
       "      <td>Single</td>\n",
       "      <td>Kansas</td>\n",
       "      <td>Basic</td>\n",
       "      <td>Unemployment</td>\n",
       "      <td>Other</td>\n",
       "      <td>1</td>\n",
       "      <td>2051.36</td>\n",
       "    </tr>\n",
       "    <tr>\n",
       "      <th>1</th>\n",
       "      <td>1</td>\n",
       "      <td>2019-01-01</td>\n",
       "      <td>151201</td>\n",
       "      <td>Male</td>\n",
       "      <td>49</td>\n",
       "      <td>Single</td>\n",
       "      <td>Illinois</td>\n",
       "      <td>Basic</td>\n",
       "      <td>self-employed</td>\n",
       "      <td>Card</td>\n",
       "      <td>0</td>\n",
       "      <td>544.04</td>\n",
       "    </tr>\n",
       "    <tr>\n",
       "      <th>2</th>\n",
       "      <td>2</td>\n",
       "      <td>2019-01-01</td>\n",
       "      <td>151202</td>\n",
       "      <td>Male</td>\n",
       "      <td>63</td>\n",
       "      <td>Married</td>\n",
       "      <td>New Mexico</td>\n",
       "      <td>Basic</td>\n",
       "      <td>workers</td>\n",
       "      <td>PayPal</td>\n",
       "      <td>1</td>\n",
       "      <td>1572.60</td>\n",
       "    </tr>\n",
       "    <tr>\n",
       "      <th>3</th>\n",
       "      <td>5</td>\n",
       "      <td>2019-01-03</td>\n",
       "      <td>151205</td>\n",
       "      <td>Male</td>\n",
       "      <td>71</td>\n",
       "      <td>Single</td>\n",
       "      <td>Hawaii</td>\n",
       "      <td>Basic</td>\n",
       "      <td>Employees</td>\n",
       "      <td>PayPal</td>\n",
       "      <td>1</td>\n",
       "      <td>2922.66</td>\n",
       "    </tr>\n",
       "    <tr>\n",
       "      <th>4</th>\n",
       "      <td>6</td>\n",
       "      <td>2019-01-03</td>\n",
       "      <td>151206</td>\n",
       "      <td>Female</td>\n",
       "      <td>34</td>\n",
       "      <td>Married</td>\n",
       "      <td>New Mexico</td>\n",
       "      <td>Platinum</td>\n",
       "      <td>Employees</td>\n",
       "      <td>PayPal</td>\n",
       "      <td>1</td>\n",
       "      <td>1481.42</td>\n",
       "    </tr>\n",
       "  </tbody>\n",
       "</table>\n",
       "</div>"
      ],
      "text/plain": [
       "   index Transaction_date  Transaction_ID  Gender  Age Marital_status  \\\n",
       "0      0       2019-01-01          151200  Female   19         Single   \n",
       "1      1       2019-01-01          151201    Male   49         Single   \n",
       "2      2       2019-01-01          151202    Male   63        Married   \n",
       "3      5       2019-01-03          151205    Male   71         Single   \n",
       "4      6       2019-01-03          151206  Female   34        Married   \n",
       "\n",
       "  State_names   Segment Employees_status Payment_method  Referal  Amount_spent  \n",
       "0      Kansas     Basic     Unemployment          Other        1       2051.36  \n",
       "1    Illinois     Basic    self-employed           Card        0        544.04  \n",
       "2  New Mexico     Basic          workers         PayPal        1       1572.60  \n",
       "3      Hawaii     Basic        Employees         PayPal        1       2922.66  \n",
       "4  New Mexico  Platinum        Employees         PayPal        1       1481.42  "
      ]
     },
     "execution_count": 83,
     "metadata": {},
     "output_type": "execute_result"
    }
   ],
   "source": [
    "df.head()"
   ]
  },
  {
   "cell_type": "code",
   "execution_count": null,
   "id": "4999613e",
   "metadata": {},
   "outputs": [],
   "source": [
    "#drop the columns 'index' and 'Transaction_ID'\n",
    "df.drop(columns=['index', 'Transaction_ID'], inplace=True)"
   ]
  },
  {
   "cell_type": "code",
   "execution_count": 22,
   "id": "2221a08c",
   "metadata": {},
   "outputs": [
    {
     "data": {
      "text/html": [
       "<div>\n",
       "<style scoped>\n",
       "    .dataframe tbody tr th:only-of-type {\n",
       "        vertical-align: middle;\n",
       "    }\n",
       "\n",
       "    .dataframe tbody tr th {\n",
       "        vertical-align: top;\n",
       "    }\n",
       "\n",
       "    .dataframe thead th {\n",
       "        text-align: right;\n",
       "    }\n",
       "</style>\n",
       "<table border=\"1\" class=\"dataframe\">\n",
       "  <thead>\n",
       "    <tr style=\"text-align: right;\">\n",
       "      <th></th>\n",
       "      <th>Transaction_date</th>\n",
       "      <th>Gender</th>\n",
       "      <th>Age</th>\n",
       "      <th>Marital_status</th>\n",
       "      <th>State_names</th>\n",
       "      <th>Segment</th>\n",
       "      <th>Employees_status</th>\n",
       "      <th>Payment_method</th>\n",
       "      <th>Referal</th>\n",
       "      <th>Amount_spent</th>\n",
       "    </tr>\n",
       "  </thead>\n",
       "  <tbody>\n",
       "    <tr>\n",
       "      <th>0</th>\n",
       "      <td>2019-01-01</td>\n",
       "      <td>Female</td>\n",
       "      <td>19</td>\n",
       "      <td>Single</td>\n",
       "      <td>Kansas</td>\n",
       "      <td>Basic</td>\n",
       "      <td>Unemployment</td>\n",
       "      <td>Other</td>\n",
       "      <td>1</td>\n",
       "      <td>2051.36</td>\n",
       "    </tr>\n",
       "    <tr>\n",
       "      <th>1</th>\n",
       "      <td>2019-01-01</td>\n",
       "      <td>Male</td>\n",
       "      <td>49</td>\n",
       "      <td>Single</td>\n",
       "      <td>Illinois</td>\n",
       "      <td>Basic</td>\n",
       "      <td>self-employed</td>\n",
       "      <td>Card</td>\n",
       "      <td>0</td>\n",
       "      <td>544.04</td>\n",
       "    </tr>\n",
       "    <tr>\n",
       "      <th>2</th>\n",
       "      <td>2019-01-01</td>\n",
       "      <td>Male</td>\n",
       "      <td>63</td>\n",
       "      <td>Married</td>\n",
       "      <td>New Mexico</td>\n",
       "      <td>Basic</td>\n",
       "      <td>workers</td>\n",
       "      <td>PayPal</td>\n",
       "      <td>1</td>\n",
       "      <td>1572.60</td>\n",
       "    </tr>\n",
       "    <tr>\n",
       "      <th>3</th>\n",
       "      <td>2019-01-03</td>\n",
       "      <td>Male</td>\n",
       "      <td>71</td>\n",
       "      <td>Single</td>\n",
       "      <td>Hawaii</td>\n",
       "      <td>Basic</td>\n",
       "      <td>Employees</td>\n",
       "      <td>PayPal</td>\n",
       "      <td>1</td>\n",
       "      <td>2922.66</td>\n",
       "    </tr>\n",
       "    <tr>\n",
       "      <th>4</th>\n",
       "      <td>2019-01-03</td>\n",
       "      <td>Female</td>\n",
       "      <td>34</td>\n",
       "      <td>Married</td>\n",
       "      <td>New Mexico</td>\n",
       "      <td>Platinum</td>\n",
       "      <td>Employees</td>\n",
       "      <td>PayPal</td>\n",
       "      <td>1</td>\n",
       "      <td>1481.42</td>\n",
       "    </tr>\n",
       "  </tbody>\n",
       "</table>\n",
       "</div>"
      ],
      "text/plain": [
       "  Transaction_date  Gender  Age Marital_status State_names   Segment  \\\n",
       "0       2019-01-01  Female   19         Single      Kansas     Basic   \n",
       "1       2019-01-01    Male   49         Single    Illinois     Basic   \n",
       "2       2019-01-01    Male   63        Married  New Mexico     Basic   \n",
       "3       2019-01-03    Male   71         Single      Hawaii     Basic   \n",
       "4       2019-01-03  Female   34        Married  New Mexico  Platinum   \n",
       "\n",
       "  Employees_status Payment_method  Referal  Amount_spent  \n",
       "0     Unemployment          Other        1       2051.36  \n",
       "1    self-employed           Card        0        544.04  \n",
       "2          workers         PayPal        1       1572.60  \n",
       "3        Employees         PayPal        1       2922.66  \n",
       "4        Employees         PayPal        1       1481.42  "
      ]
     },
     "execution_count": 22,
     "metadata": {},
     "output_type": "execute_result"
    }
   ],
   "source": [
    "df.head()"
   ]
  },
  {
   "cell_type": "markdown",
   "id": "b035731c",
   "metadata": {},
   "source": [
    "# Data visualisation "
   ]
  },
  {
   "cell_type": "code",
   "execution_count": null,
   "id": "1110fe69",
   "metadata": {},
   "outputs": [],
   "source": [
    "# Univariate analysis for data analysis\n",
    "plt.figure(figsize=(10,6))\n",
    "sns.histplot(data=df, x ='Transaction_date', color ='r', bins =30)\n",
    "plt.title('Distribution of Transactions by Date')\n",
    "plt.xlabel('Transaction Date')\n",
    "plt.ylabel('Frequency')\n"
   ]
  },
  {
   "cell_type": "code",
   "execution_count": null,
   "id": "08fe6a5d",
   "metadata": {},
   "outputs": [],
   "source": []
  },
  {
   "cell_type": "code",
   "execution_count": null,
   "id": "43f39146",
   "metadata": {},
   "outputs": [],
   "source": []
  },
  {
   "cell_type": "code",
   "execution_count": null,
   "id": "d2018c28",
   "metadata": {},
   "outputs": [],
   "source": []
  }
 ],
 "metadata": {
  "kernelspec": {
   "display_name": "Python 3 (ipykernel)",
   "language": "python",
   "name": "python3"
  },
  "language_info": {
   "codemirror_mode": {
    "name": "ipython",
    "version": 3
   },
   "file_extension": ".py",
   "mimetype": "text/x-python",
   "name": "python",
   "nbconvert_exporter": "python",
   "pygments_lexer": "ipython3",
   "version": "3.9.13"
  }
 },
 "nbformat": 4,
 "nbformat_minor": 5
}
